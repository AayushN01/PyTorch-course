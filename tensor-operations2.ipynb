{
 "cells": [
  {
   "cell_type": "code",
   "execution_count": 1,
   "metadata": {},
   "outputs": [],
   "source": [
    "import torch"
   ]
  },
  {
   "cell_type": "code",
   "execution_count": 2,
   "metadata": {},
   "outputs": [
    {
     "data": {
      "text/plain": [
       "tensor([ 5, 23, 41, 60], dtype=torch.int32)"
      ]
     },
     "execution_count": 2,
     "metadata": {},
     "output_type": "execute_result"
    }
   ],
   "source": [
    "torch.linspace(5,60,steps=4,dtype=torch.int32)"
   ]
  },
  {
   "cell_type": "code",
   "execution_count": 3,
   "metadata": {},
   "outputs": [
    {
     "data": {
      "text/plain": [
       "tensor([ 5, 32, 60], dtype=torch.int32)"
      ]
     },
     "execution_count": 3,
     "metadata": {},
     "output_type": "execute_result"
    }
   ],
   "source": [
    "torch.linspace(5,60,steps=3,dtype=torch.int32)"
   ]
  },
  {
   "cell_type": "code",
   "execution_count": 4,
   "metadata": {},
   "outputs": [
    {
     "data": {
      "text/plain": [
       "tensor([5], dtype=torch.int32)"
      ]
     },
     "execution_count": 4,
     "metadata": {},
     "output_type": "execute_result"
    }
   ],
   "source": [
    "torch.linspace(5,10,steps=1,dtype=torch.int32)"
   ]
  },
  {
   "cell_type": "code",
   "execution_count": 5,
   "metadata": {},
   "outputs": [
    {
     "data": {
      "text/plain": [
       "tensor([ 5,  6,  7,  8, 10], dtype=torch.int32)"
      ]
     },
     "execution_count": 5,
     "metadata": {},
     "output_type": "execute_result"
    }
   ],
   "source": [
    "torch.linspace(5,10,steps=5,dtype=torch.int32)"
   ]
  },
  {
   "cell_type": "code",
   "execution_count": 6,
   "metadata": {},
   "outputs": [
    {
     "data": {
      "text/plain": [
       "tensor([ 5,  6,  7,  8,  9, 10], dtype=torch.int32)"
      ]
     },
     "execution_count": 6,
     "metadata": {},
     "output_type": "execute_result"
    }
   ],
   "source": [
    "torch.linspace(5,10,steps=6,dtype=torch.int32)"
   ]
  },
  {
   "cell_type": "code",
   "execution_count": 7,
   "metadata": {},
   "outputs": [
    {
     "data": {
      "text/plain": [
       "tensor([-0.6931, -1.6094, -1.2040, -0.5108])"
      ]
     },
     "execution_count": 7,
     "metadata": {},
     "output_type": "execute_result"
    }
   ],
   "source": [
    "t1 = torch.tensor([.5, .2, .3, .6])\n",
    "torch.log(t1)"
   ]
  },
  {
   "cell_type": "code",
   "execution_count": 8,
   "metadata": {},
   "outputs": [
    {
     "data": {
      "text/plain": [
       "tensor([1.6094, 0.6931, 1.0986, 1.6094])"
      ]
     },
     "execution_count": 8,
     "metadata": {},
     "output_type": "execute_result"
    }
   ],
   "source": [
    "t2 = torch.tensor([5., 2., 3, 5])\n",
    "torch.log(t2)"
   ]
  },
  {
   "cell_type": "code",
   "execution_count": 9,
   "metadata": {},
   "outputs": [
    {
     "name": "stdout",
     "output_type": "stream",
     "text": [
      "tensor([[-0.1820,  0.9666],\n",
      "        [-0.0879, -0.0412],\n",
      "        [ 1.5794,  0.5134]])\n"
     ]
    },
    {
     "data": {
      "text/plain": [
       "tensor([[    nan, -0.0339],\n",
       "        [    nan,     nan],\n",
       "        [ 0.4570, -0.6666]])"
      ]
     },
     "execution_count": 9,
     "metadata": {},
     "output_type": "execute_result"
    }
   ],
   "source": [
    "t3 = torch.randn((3,2))\n",
    "print(t3)\n",
    "torch.log(t3)"
   ]
  },
  {
   "cell_type": "code",
   "execution_count": 10,
   "metadata": {},
   "outputs": [
    {
     "name": "stdout",
     "output_type": "stream",
     "text": [
      "tensor([[ 1.3566, -1.5073, -0.1588,  0.0673]])\n"
     ]
    },
    {
     "data": {
      "text/plain": [
       "tensor(-0.0605)"
      ]
     },
     "execution_count": 10,
     "metadata": {},
     "output_type": "execute_result"
    }
   ],
   "source": [
    "x = torch.randn((1,4))\n",
    "print(x)\n",
    "torch.mean(x)"
   ]
  },
  {
   "cell_type": "code",
   "execution_count": 12,
   "metadata": {},
   "outputs": [
    {
     "name": "stdout",
     "output_type": "stream",
     "text": [
      "tensor([1., 2., 3., 4.])\n"
     ]
    },
    {
     "data": {
      "text/plain": [
       "tensor(2.5000)"
      ]
     },
     "execution_count": 12,
     "metadata": {},
     "output_type": "execute_result"
    }
   ],
   "source": [
    "t4 = torch.tensor([1.,2.,3.,4.])\n",
    "print(t4)\n",
    "torch.mean(t4)"
   ]
  },
  {
   "cell_type": "code",
   "execution_count": 13,
   "metadata": {},
   "outputs": [
    {
     "name": "stdout",
     "output_type": "stream",
     "text": [
      "tensor([[-0.1494,  0.1668,  0.4208,  0.5217],\n",
      "        [-0.6127, -1.7369,  0.5749,  0.9718],\n",
      "        [ 1.4454, -0.0701,  0.9250, -0.8554]])\n"
     ]
    },
    {
     "data": {
      "text/plain": [
       "tensor([ 1.3566, -1.5073, -0.1588,  0.0673])"
      ]
     },
     "execution_count": 13,
     "metadata": {},
     "output_type": "execute_result"
    }
   ],
   "source": [
    "y = torch.randn((3,4))\n",
    "print(y)\n",
    "torch.mean(x, dim=0)"
   ]
  },
  {
   "cell_type": "code",
   "execution_count": 17,
   "metadata": {},
   "outputs": [
    {
     "name": "stdout",
     "output_type": "stream",
     "text": [
      "tensor([[-1.1498,  0.4862,  0.4823,  0.3004,  0.5534,  0.3671, -1.5319, -2.2067,\n",
      "          0.0580,  2.0197, -0.9727, -0.1863]])\n"
     ]
    },
    {
     "data": {
      "text/plain": [
       "tensor([[-1.1498,  0.4862,  0.4823,  0.3004],\n",
       "        [ 0.5534,  0.3671, -1.5319, -2.2067],\n",
       "        [ 0.0580,  2.0197, -0.9727, -0.1863]])"
      ]
     },
     "execution_count": 17,
     "metadata": {},
     "output_type": "execute_result"
    }
   ],
   "source": [
    "x = torch.randn((1,12))\n",
    "print(x)\n",
    "torch.reshape(x,(3,4))"
   ]
  },
  {
   "cell_type": "code",
   "execution_count": 23,
   "metadata": {},
   "outputs": [
    {
     "name": "stdout",
     "output_type": "stream",
     "text": [
      "tensor([[-0.4857,  0.2053],\n",
      "        [ 2.0759,  0.6173],\n",
      "        [-0.0532,  0.6188],\n",
      "        [-0.9812,  0.3671],\n",
      "        [ 0.6012, -0.0860],\n",
      "        [-0.5246, -0.4796],\n",
      "        [-1.6124,  0.4524],\n",
      "        [-0.1751, -1.4426]])\n"
     ]
    },
    {
     "data": {
      "text/plain": [
       "tensor([[-0.4857,  0.2053,  2.0759,  0.6173, -0.0532,  0.6188, -0.9812,  0.3671],\n",
       "        [ 0.6012, -0.0860, -0.5246, -0.4796, -1.6124,  0.4524, -0.1751, -1.4426]])"
      ]
     },
     "execution_count": 23,
     "metadata": {},
     "output_type": "execute_result"
    }
   ],
   "source": [
    "x = torch.randn((8,2))\n",
    "print(x)\n",
    "torch.reshape(x, (2,8))"
   ]
  },
  {
   "cell_type": "code",
   "execution_count": 24,
   "metadata": {},
   "outputs": [
    {
     "name": "stdout",
     "output_type": "stream",
     "text": [
      "tensor([[ 1.2332, -0.3456,  0.8104,  0.8147],\n",
      "        [-0.8788,  0.6571, -0.2464,  1.3996],\n",
      "        [-0.3112, -1.5342,  0.3515,  0.8109]])\n"
     ]
    },
    {
     "data": {
      "text/plain": [
       "tensor([[ 1.2332, -0.3456],\n",
       "        [ 0.8104,  0.8147],\n",
       "        [-0.8788,  0.6571],\n",
       "        [-0.2464,  1.3996],\n",
       "        [-0.3112, -1.5342],\n",
       "        [ 0.3515,  0.8109]])"
      ]
     },
     "execution_count": 24,
     "metadata": {},
     "output_type": "execute_result"
    }
   ],
   "source": [
    "x = torch.randn((3,4))\n",
    "print(x)\n",
    "torch.reshape(x,(6,2))"
   ]
  },
  {
   "cell_type": "code",
   "execution_count": 25,
   "metadata": {},
   "outputs": [
    {
     "name": "stdout",
     "output_type": "stream",
     "text": [
      "tensor([[ 0.8596,  0.8593,  0.7662, -0.2327],\n",
      "        [ 0.0955, -0.5315, -0.2560,  0.5628],\n",
      "        [-0.1221, -3.4375,  1.0008,  0.6501]])\n"
     ]
    },
    {
     "ename": "RuntimeError",
     "evalue": "shape '[4, 4]' is invalid for input of size 12",
     "output_type": "error",
     "traceback": [
      "\u001b[1;31m---------------------------------------------------------------------------\u001b[0m",
      "\u001b[1;31mRuntimeError\u001b[0m                              Traceback (most recent call last)",
      "\u001b[1;32m<ipython-input-25-78779f54fcc7>\u001b[0m in \u001b[0;36m<module>\u001b[1;34m\u001b[0m\n\u001b[0;32m      1\u001b[0m \u001b[0mx\u001b[0m \u001b[1;33m=\u001b[0m \u001b[0mtorch\u001b[0m\u001b[1;33m.\u001b[0m\u001b[0mrandn\u001b[0m\u001b[1;33m(\u001b[0m\u001b[1;33m(\u001b[0m\u001b[1;36m3\u001b[0m\u001b[1;33m,\u001b[0m\u001b[1;36m4\u001b[0m\u001b[1;33m)\u001b[0m\u001b[1;33m)\u001b[0m\u001b[1;33m\u001b[0m\u001b[1;33m\u001b[0m\u001b[0m\n\u001b[0;32m      2\u001b[0m \u001b[0mprint\u001b[0m\u001b[1;33m(\u001b[0m\u001b[0mx\u001b[0m\u001b[1;33m)\u001b[0m\u001b[1;33m\u001b[0m\u001b[1;33m\u001b[0m\u001b[0m\n\u001b[1;32m----> 3\u001b[1;33m \u001b[0mtorch\u001b[0m\u001b[1;33m.\u001b[0m\u001b[0mreshape\u001b[0m\u001b[1;33m(\u001b[0m\u001b[0mx\u001b[0m\u001b[1;33m,\u001b[0m\u001b[1;33m(\u001b[0m\u001b[1;36m4\u001b[0m\u001b[1;33m,\u001b[0m\u001b[1;36m4\u001b[0m\u001b[1;33m)\u001b[0m\u001b[1;33m)\u001b[0m\u001b[1;33m\u001b[0m\u001b[1;33m\u001b[0m\u001b[0m\n\u001b[0m",
      "\u001b[1;31mRuntimeError\u001b[0m: shape '[4, 4]' is invalid for input of size 12"
     ]
    }
   ],
   "source": [
    "x = torch.randn((3,4))\n",
    "print(x)\n",
    "torch.reshape(x,(4,4))"
   ]
  },
  {
   "cell_type": "code",
   "execution_count": 26,
   "metadata": {},
   "outputs": [
    {
     "name": "stdout",
     "output_type": "stream",
     "text": [
      "tensor([[-0.8394, -0.0432, -0.2855, -1.4391, -2.0718],\n",
      "        [-0.4532,  0.1112,  0.1172, -0.2167, -0.2202],\n",
      "        [-1.0394,  0.6274,  0.0442,  2.5665, -0.7681]])\n"
     ]
    },
    {
     "data": {
      "text/plain": [
       "tensor([[-0.8394, -0.4532, -1.0394],\n",
       "        [-0.0432,  0.1112,  0.6274],\n",
       "        [-0.2855,  0.1172,  0.0442],\n",
       "        [-1.4391, -0.2167,  2.5665],\n",
       "        [-2.0718, -0.2202, -0.7681]])"
      ]
     },
     "execution_count": 26,
     "metadata": {},
     "output_type": "execute_result"
    }
   ],
   "source": [
    "x = torch.randn((3,5))\n",
    "print(x)\n",
    "torch.t(x)"
   ]
  },
  {
   "cell_type": "code",
   "execution_count": 28,
   "metadata": {},
   "outputs": [
    {
     "name": "stdout",
     "output_type": "stream",
     "text": [
      "tensor([[-0.0613, -0.6107,  1.0481, -0.8908, -0.7959],\n",
      "        [-0.9821,  0.3009, -0.5735, -1.2812,  0.4730],\n",
      "        [ 1.5150,  1.5470,  1.6009,  0.3884,  0.0868]])\n"
     ]
    },
    {
     "data": {
      "text/plain": [
       "tensor([[-0.0613, -0.9821,  1.5150],\n",
       "        [-0.6107,  0.3009,  1.5470],\n",
       "        [ 1.0481, -0.5735,  1.6009],\n",
       "        [-0.8908, -1.2812,  0.3884],\n",
       "        [-0.7959,  0.4730,  0.0868]])"
      ]
     },
     "execution_count": 28,
     "metadata": {},
     "output_type": "execute_result"
    }
   ],
   "source": [
    "x = torch.randn((3,5))\n",
    "print(x)\n",
    "torch.t(x)"
   ]
  },
  {
   "cell_type": "code",
   "execution_count": 29,
   "metadata": {},
   "outputs": [
    {
     "data": {
      "text/plain": [
       "tensor([[1, 2],\n",
       "        [4, 5],\n",
       "        [7, 8]])"
      ]
     },
     "execution_count": 29,
     "metadata": {},
     "output_type": "execute_result"
    }
   ],
   "source": [
    "x = torch.tensor([[1,2,3],[4,5,6],[7,8,9]])\n",
    "y = torch.as_strided(x,(3,2),(3,1))\n",
    "y"
   ]
  },
  {
   "cell_type": "code",
   "execution_count": 30,
   "metadata": {},
   "outputs": [
    {
     "data": {
      "text/plain": [
       "tensor([[1, 3, 5],\n",
       "        [2, 4, 6]])"
      ]
     },
     "execution_count": 30,
     "metadata": {},
     "output_type": "execute_result"
    }
   ],
   "source": [
    "y = torch.as_strided(x,(2,3),(1,2))\n",
    "y"
   ]
  },
  {
   "cell_type": "code",
   "execution_count": null,
   "metadata": {},
   "outputs": [],
   "source": []
  }
 ],
 "metadata": {
  "kernelspec": {
   "display_name": "Python 3",
   "language": "python",
   "name": "python3"
  },
  "language_info": {
   "codemirror_mode": {
    "name": "ipython",
    "version": 3
   },
   "file_extension": ".py",
   "mimetype": "text/x-python",
   "name": "python",
   "nbconvert_exporter": "python",
   "pygments_lexer": "ipython3",
   "version": "3.7.6"
  }
 },
 "nbformat": 4,
 "nbformat_minor": 4
}
